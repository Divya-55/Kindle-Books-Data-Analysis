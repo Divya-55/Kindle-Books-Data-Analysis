{
 "cells": [
  {
   "cell_type": "markdown",
   "id": "b71c44bb-c53b-42eb-b529-3896bb5fbdea",
   "metadata": {},
   "source": [
    "### Data Extracting from kaggle"
   ]
  },
  {
   "cell_type": "code",
   "execution_count": 2,
   "id": "f5306485-08e8-4405-abf5-c2491b8cd71b",
   "metadata": {},
   "outputs": [],
   "source": [
    "# !pip install kaggle\n",
    "import kaggle"
   ]
  },
  {
   "cell_type": "code",
   "execution_count": 3,
   "id": "8eaa7e7d-feaf-43ac-be47-2f438ca6dbee",
   "metadata": {},
   "outputs": [
    {
     "name": "stdout",
     "output_type": "stream",
     "text": [
      "Dataset URL: https://www.kaggle.com/datasets/asaniczka/amazon-kindle-books-dataset-2023-130k-books\n",
      "License(s): ODC Attribution License (ODC-By)\n",
      "Downloading kindle_data-v2.csv.zip to C:\\Users\\lenovo\\Python jupyter\\project\n",
      "\n"
     ]
    },
    {
     "name": "stderr",
     "output_type": "stream",
     "text": [
      "\n",
      "  0%|          | 0.00/9.11M [00:00<?, ?B/s]\n",
      " 11%|#         | 1.00M/9.11M [00:01<00:10, 795kB/s]\n",
      " 22%|##1       | 2.00M/9.11M [00:01<00:04, 1.58MB/s]\n",
      " 33%|###2      | 3.00M/9.11M [00:01<00:02, 2.36MB/s]\n",
      " 44%|####3     | 4.00M/9.11M [00:01<00:01, 2.88MB/s]\n",
      " 55%|#####4    | 5.00M/9.11M [00:02<00:01, 3.12MB/s]\n",
      " 66%|######5   | 6.00M/9.11M [00:02<00:00, 3.40MB/s]\n",
      " 77%|#######6  | 7.00M/9.11M [00:02<00:00, 3.81MB/s]\n",
      " 88%|########7 | 8.00M/9.11M [00:02<00:00, 4.21MB/s]\n",
      " 99%|#########8| 9.00M/9.11M [00:03<00:00, 4.61MB/s]\n",
      "100%|##########| 9.11M/9.11M [00:03<00:00, 3.09MB/s]\n"
     ]
    }
   ],
   "source": [
    "# download kindle dataset\n",
    "!kaggle datasets download asaniczka/amazon-kindle-books-dataset-2023-130k-books -f kindle_data-v2.csv"
   ]
  },
  {
   "cell_type": "code",
   "execution_count": 8,
   "id": "71f9ffdd-cf12-4b76-bf30-a5beeda1ccbf",
   "metadata": {},
   "outputs": [],
   "source": [
    "# extract zip file using code\n",
    "import zipfile\n",
    "zip_ref = zipfile.ZipFile(r'C:\\Users\\lenovo\\Python jupyter\\project\\kindle_data-v2.csv.zip')\n",
    "zip_ref.extractall() #extracts all files to dir\n",
    "zip_ref.close() # close the file"
   ]
  },
  {
   "cell_type": "code",
   "execution_count": 12,
   "id": "aa0f8b7c-2b11-445e-8027-6f322d415872",
   "metadata": {},
   "outputs": [],
   "source": [
    "#  read data from the file\n",
    "import pandas as pd\n",
    "df = pd.read_csv(r'C:\\Users\\lenovo\\Python jupyter\\project\\kindle_data-v2.csv')"
   ]
  },
  {
   "cell_type": "code",
   "execution_count": 13,
   "id": "ec558d95-44b3-4af1-9dae-816a6f99585b",
   "metadata": {},
   "outputs": [
    {
     "data": {
      "text/html": [
       "<div>\n",
       "<style scoped>\n",
       "    .dataframe tbody tr th:only-of-type {\n",
       "        vertical-align: middle;\n",
       "    }\n",
       "\n",
       "    .dataframe tbody tr th {\n",
       "        vertical-align: top;\n",
       "    }\n",
       "\n",
       "    .dataframe thead th {\n",
       "        text-align: right;\n",
       "    }\n",
       "</style>\n",
       "<table border=\"1\" class=\"dataframe\">\n",
       "  <thead>\n",
       "    <tr style=\"text-align: right;\">\n",
       "      <th></th>\n",
       "      <th>asin</th>\n",
       "      <th>title</th>\n",
       "      <th>author</th>\n",
       "      <th>soldBy</th>\n",
       "      <th>imgUrl</th>\n",
       "      <th>productURL</th>\n",
       "      <th>stars</th>\n",
       "      <th>reviews</th>\n",
       "      <th>price</th>\n",
       "      <th>isKindleUnlimited</th>\n",
       "      <th>category_id</th>\n",
       "      <th>isBestSeller</th>\n",
       "      <th>isEditorsPick</th>\n",
       "      <th>isGoodReadsChoice</th>\n",
       "      <th>publishedDate</th>\n",
       "      <th>category_name</th>\n",
       "    </tr>\n",
       "  </thead>\n",
       "  <tbody>\n",
       "    <tr>\n",
       "      <th>0</th>\n",
       "      <td>B00TZE87S4</td>\n",
       "      <td>Adult Children of Emotionally Immature Parents...</td>\n",
       "      <td>Lindsay C. Gibson</td>\n",
       "      <td>Amazon.com Services LLC</td>\n",
       "      <td>https://m.media-amazon.com/images/I/713KZTsaYp...</td>\n",
       "      <td>https://www.amazon.com/dp/B00TZE87S4</td>\n",
       "      <td>4.8</td>\n",
       "      <td>0</td>\n",
       "      <td>9.99</td>\n",
       "      <td>False</td>\n",
       "      <td>6</td>\n",
       "      <td>True</td>\n",
       "      <td>False</td>\n",
       "      <td>False</td>\n",
       "      <td>2015-06-01</td>\n",
       "      <td>Parenting &amp; Relationships</td>\n",
       "    </tr>\n",
       "    <tr>\n",
       "      <th>1</th>\n",
       "      <td>B08WCKY8MB</td>\n",
       "      <td>From Strength to Strength: Finding Success, Ha...</td>\n",
       "      <td>Arthur C. Brooks</td>\n",
       "      <td>Penguin Group (USA) LLC</td>\n",
       "      <td>https://m.media-amazon.com/images/I/A1LZcJFs9E...</td>\n",
       "      <td>https://www.amazon.com/dp/B08WCKY8MB</td>\n",
       "      <td>4.4</td>\n",
       "      <td>0</td>\n",
       "      <td>16.99</td>\n",
       "      <td>False</td>\n",
       "      <td>6</td>\n",
       "      <td>False</td>\n",
       "      <td>False</td>\n",
       "      <td>False</td>\n",
       "      <td>2022-02-15</td>\n",
       "      <td>Parenting &amp; Relationships</td>\n",
       "    </tr>\n",
       "    <tr>\n",
       "      <th>2</th>\n",
       "      <td>B09KPS84CJ</td>\n",
       "      <td>Good Inside: A Guide to Becoming the Parent Yo...</td>\n",
       "      <td>Becky Kennedy</td>\n",
       "      <td>HarperCollins Publishers</td>\n",
       "      <td>https://m.media-amazon.com/images/I/71RIWM0sv6...</td>\n",
       "      <td>https://www.amazon.com/dp/B09KPS84CJ</td>\n",
       "      <td>4.8</td>\n",
       "      <td>0</td>\n",
       "      <td>16.99</td>\n",
       "      <td>False</td>\n",
       "      <td>6</td>\n",
       "      <td>False</td>\n",
       "      <td>True</td>\n",
       "      <td>False</td>\n",
       "      <td>2022-09-13</td>\n",
       "      <td>Parenting &amp; Relationships</td>\n",
       "    </tr>\n",
       "    <tr>\n",
       "      <th>3</th>\n",
       "      <td>B07S7QPG6J</td>\n",
       "      <td>Everything I Know About Love: A Memoir</td>\n",
       "      <td>Dolly Alderton</td>\n",
       "      <td>HarperCollins Publishers</td>\n",
       "      <td>https://m.media-amazon.com/images/I/71QdQpTiKZ...</td>\n",
       "      <td>https://www.amazon.com/dp/B07S7QPG6J</td>\n",
       "      <td>4.2</td>\n",
       "      <td>0</td>\n",
       "      <td>9.95</td>\n",
       "      <td>True</td>\n",
       "      <td>6</td>\n",
       "      <td>False</td>\n",
       "      <td>True</td>\n",
       "      <td>False</td>\n",
       "      <td>2020-02-25</td>\n",
       "      <td>Parenting &amp; Relationships</td>\n",
       "    </tr>\n",
       "    <tr>\n",
       "      <th>4</th>\n",
       "      <td>B00N6PEQV0</td>\n",
       "      <td>The Seven Principles for Making Marriage Work:...</td>\n",
       "      <td>John Gottman</td>\n",
       "      <td>Random House LLC</td>\n",
       "      <td>https://m.media-amazon.com/images/I/813o4WOs+w...</td>\n",
       "      <td>https://www.amazon.com/dp/B00N6PEQV0</td>\n",
       "      <td>4.7</td>\n",
       "      <td>0</td>\n",
       "      <td>13.99</td>\n",
       "      <td>False</td>\n",
       "      <td>6</td>\n",
       "      <td>False</td>\n",
       "      <td>False</td>\n",
       "      <td>False</td>\n",
       "      <td>2015-05-05</td>\n",
       "      <td>Parenting &amp; Relationships</td>\n",
       "    </tr>\n",
       "  </tbody>\n",
       "</table>\n",
       "</div>"
      ],
      "text/plain": [
       "         asin                                              title  \\\n",
       "0  B00TZE87S4  Adult Children of Emotionally Immature Parents...   \n",
       "1  B08WCKY8MB  From Strength to Strength: Finding Success, Ha...   \n",
       "2  B09KPS84CJ  Good Inside: A Guide to Becoming the Parent Yo...   \n",
       "3  B07S7QPG6J             Everything I Know About Love: A Memoir   \n",
       "4  B00N6PEQV0  The Seven Principles for Making Marriage Work:...   \n",
       "\n",
       "              author                    soldBy  \\\n",
       "0  Lindsay C. Gibson   Amazon.com Services LLC   \n",
       "1   Arthur C. Brooks   Penguin Group (USA) LLC   \n",
       "2      Becky Kennedy  HarperCollins Publishers   \n",
       "3     Dolly Alderton  HarperCollins Publishers   \n",
       "4       John Gottman          Random House LLC   \n",
       "\n",
       "                                              imgUrl  \\\n",
       "0  https://m.media-amazon.com/images/I/713KZTsaYp...   \n",
       "1  https://m.media-amazon.com/images/I/A1LZcJFs9E...   \n",
       "2  https://m.media-amazon.com/images/I/71RIWM0sv6...   \n",
       "3  https://m.media-amazon.com/images/I/71QdQpTiKZ...   \n",
       "4  https://m.media-amazon.com/images/I/813o4WOs+w...   \n",
       "\n",
       "                             productURL  stars  reviews  price  \\\n",
       "0  https://www.amazon.com/dp/B00TZE87S4    4.8        0   9.99   \n",
       "1  https://www.amazon.com/dp/B08WCKY8MB    4.4        0  16.99   \n",
       "2  https://www.amazon.com/dp/B09KPS84CJ    4.8        0  16.99   \n",
       "3  https://www.amazon.com/dp/B07S7QPG6J    4.2        0   9.95   \n",
       "4  https://www.amazon.com/dp/B00N6PEQV0    4.7        0  13.99   \n",
       "\n",
       "   isKindleUnlimited  category_id  isBestSeller  isEditorsPick  \\\n",
       "0              False            6          True          False   \n",
       "1              False            6         False          False   \n",
       "2              False            6         False           True   \n",
       "3               True            6         False           True   \n",
       "4              False            6         False          False   \n",
       "\n",
       "   isGoodReadsChoice publishedDate              category_name  \n",
       "0              False    2015-06-01  Parenting & Relationships  \n",
       "1              False    2022-02-15  Parenting & Relationships  \n",
       "2              False    2022-09-13  Parenting & Relationships  \n",
       "3              False    2020-02-25  Parenting & Relationships  \n",
       "4              False    2015-05-05  Parenting & Relationships  "
      ]
     },
     "execution_count": 13,
     "metadata": {},
     "output_type": "execute_result"
    }
   ],
   "source": [
    "df.head()"
   ]
  },
  {
   "cell_type": "code",
   "execution_count": 4,
   "id": "5cedc233-90be-41c3-a14c-3da568015f88",
   "metadata": {},
   "outputs": [
    {
     "data": {
      "text/plain": [
       "asin                  object\n",
       "title                 object\n",
       "author                object\n",
       "soldBy                object\n",
       "imgUrl                object\n",
       "productURL            object\n",
       "stars                float64\n",
       "reviews                int64\n",
       "price                float64\n",
       "isKindleUnlimited       bool\n",
       "category_id            int64\n",
       "isBestSeller            bool\n",
       "isEditorsPick           bool\n",
       "isGoodReadsChoice       bool\n",
       "publishedDate         object\n",
       "category_name         object\n",
       "dtype: object"
      ]
     },
     "execution_count": 4,
     "metadata": {},
     "output_type": "execute_result"
    }
   ],
   "source": [
    "df.dtypes"
   ]
  },
  {
   "cell_type": "code",
   "execution_count": 14,
   "id": "11037ee9-4096-4f86-849f-da3c4aac626e",
   "metadata": {},
   "outputs": [
    {
     "data": {
      "text/plain": [
       "asin                     0\n",
       "title                    0\n",
       "author                 425\n",
       "soldBy                9233\n",
       "imgUrl                   0\n",
       "productURL               0\n",
       "stars                    0\n",
       "reviews                  0\n",
       "price                    0\n",
       "isKindleUnlimited        0\n",
       "category_id              0\n",
       "isBestSeller             0\n",
       "isEditorsPick            0\n",
       "isGoodReadsChoice        0\n",
       "publishedDate        49016\n",
       "category_name            0\n",
       "dtype: int64"
      ]
     },
     "execution_count": 14,
     "metadata": {},
     "output_type": "execute_result"
    }
   ],
   "source": [
    "df.isnull().sum()"
   ]
  },
  {
   "cell_type": "markdown",
   "id": "b2958395-5cd3-4072-a972-2eb020e13418",
   "metadata": {},
   "source": [
    "### Data Transforming using pandas"
   ]
  },
  {
   "cell_type": "raw",
   "id": "3d4e7d13-d01e-409e-abf2-75162c6fd0c3",
   "metadata": {},
   "source": [
    "* Fill null values in publishedDate with '2100-01-01'"
   ]
  },
  {
   "cell_type": "code",
   "execution_count": 6,
   "id": "0e8bd21d-c0a7-4c0e-bbb5-35cc11cfaf92",
   "metadata": {},
   "outputs": [
    {
     "name": "stderr",
     "output_type": "stream",
     "text": [
      "C:\\Users\\lenovo\\AppData\\Local\\Temp\\ipykernel_13260\\1811566776.py:1: FutureWarning: A value is trying to be set on a copy of a DataFrame or Series through chained assignment using an inplace method.\n",
      "The behavior will change in pandas 3.0. This inplace method will never work because the intermediate object on which we are setting values always behaves as a copy.\n",
      "\n",
      "For example, when doing 'df[col].method(value, inplace=True)', try using 'df.method({col: value}, inplace=True)' or df[col] = df[col].method(value) instead, to perform the operation inplace on the original object.\n",
      "\n",
      "\n",
      "  df['publishedDate'].fillna(pd.Timestamp('2100-01-01'), inplace=True)  # fill NaN values with '2100-01-01'\n"
     ]
    }
   ],
   "source": [
    "df['publishedDate'].fillna(pd.Timestamp('2100-01-01'), inplace=True)  # fill NaN values with '2100-01-01'\n",
    "# all other columns datatypes are already fine "
   ]
  },
  {
   "cell_type": "code",
   "execution_count": 7,
   "id": "000345fd-512f-4bdb-97a6-bdeb3abeebea",
   "metadata": {},
   "outputs": [
    {
     "data": {
      "text/plain": [
       "asin                    0\n",
       "title                   0\n",
       "author                425\n",
       "soldBy               9233\n",
       "imgUrl                  0\n",
       "productURL              0\n",
       "stars                   0\n",
       "reviews                 0\n",
       "price                   0\n",
       "isKindleUnlimited       0\n",
       "category_id             0\n",
       "isBestSeller            0\n",
       "isEditorsPick           0\n",
       "isGoodReadsChoice       0\n",
       "publishedDate           0\n",
       "category_name           0\n",
       "dtype: int64"
      ]
     },
     "execution_count": 7,
     "metadata": {},
     "output_type": "execute_result"
    }
   ],
   "source": [
    "df.isna().sum()"
   ]
  },
  {
   "cell_type": "markdown",
   "id": "d2d78150-b853-414b-adac-c44f787222f3",
   "metadata": {},
   "source": [
    "##### Rename column names"
   ]
  },
  {
   "cell_type": "code",
   "execution_count": 15,
   "id": "5fc58196-036b-4c6a-9d49-ad384305d604",
   "metadata": {},
   "outputs": [],
   "source": [
    "df.rename(columns={\n",
    "    'asin': 'ProductID',\n",
    "    'title': 'Title',\n",
    "    'author': 'Author',\n",
    "    'soldBy': 'Seller',\n",
    "    'imgUrl': 'ImageURL',\n",
    "    'productURL': 'ProductURL',\n",
    "    'stars': 'AverageRating',\n",
    "    'reviews': 'NumberOfReviews',\n",
    "    'price': 'Cost_USD',\n",
    "    'isKindleUnlimited': 'IsKindleUnlimited',\n",
    "    'category_id': 'CategoryID',\n",
    "    'isBestSeller': 'IsBestSeller',\n",
    "    'isEditorsPick': 'IsEditorsPick',\n",
    "    'isGoodReadsChoice': 'IsGoodReadsChoice',\n",
    "    'publishedDate': 'PublishedDate',\n",
    "    'category_name': 'CategoryName'\n",
    "}, inplace=True)"
   ]
  },
  {
   "cell_type": "code",
   "execution_count": 16,
   "id": "00bfff8a-8b87-4df8-b1fe-6cebb898eac0",
   "metadata": {},
   "outputs": [
    {
     "data": {
      "text/plain": [
       "Index(['ProductID', 'Title', 'Author', 'Seller', 'ImageURL', 'ProductURL',\n",
       "       'AverageRating', 'NumberOfReviews', 'Cost_USD', 'IsKindleUnlimited',\n",
       "       'CategoryID', 'IsBestSeller', 'IsEditorsPick', 'IsGoodReadsChoice',\n",
       "       'PublishedDate', 'CategoryName'],\n",
       "      dtype='object')"
      ]
     },
     "execution_count": 16,
     "metadata": {},
     "output_type": "execute_result"
    }
   ],
   "source": [
    "df.columns"
   ]
  },
  {
   "cell_type": "markdown",
   "id": "1033eba3-d404-43f4-9abf-0127890ed600",
   "metadata": {},
   "source": [
    "### Connect python to the snowflake"
   ]
  },
  {
   "cell_type": "raw",
   "id": "faabffca-bb83-4b11-a06f-fbdb3658208b",
   "metadata": {},
   "source": [
    "1. installation\n",
    "2. connection\n",
    "3. load data"
   ]
  },
  {
   "cell_type": "markdown",
   "id": "1aa0d91c-bc0d-44f9-a74e-2cceb1d57fe0",
   "metadata": {},
   "source": [
    "#### installation"
   ]
  },
  {
   "cell_type": "code",
   "execution_count": null,
   "id": "b9e2a4c3-f7d4-4d85-9161-56b845758101",
   "metadata": {},
   "outputs": [],
   "source": [
    "!pip install snowflake-connector-python\n",
    "!pip install python-dotenv"
   ]
  },
  {
   "cell_type": "code",
   "execution_count": 3,
   "id": "8ae17377-24b5-43eb-b1ed-df89444b3ef0",
   "metadata": {},
   "outputs": [],
   "source": [
    "from snowflake.connector.pandas_tools import write_pandas\n",
    "import snowflake.connector\n",
    "import pandas as pd\n",
    "import os\n",
    "from dotenv import load_dotenv"
   ]
  },
  {
   "cell_type": "markdown",
   "id": "4fc892f6-a6bc-4977-8695-623cf1c60c7e",
   "metadata": {},
   "source": [
    "#### connection"
   ]
  },
  {
   "cell_type": "code",
   "execution_count": 4,
   "id": "6e3f5b91-2aea-4097-a223-709d2f3afe30",
   "metadata": {},
   "outputs": [
    {
     "data": {
      "text/plain": [
       "<snowflake.connector.cursor.SnowflakeCursor at 0x1a9da2d0ef0>"
      ]
     },
     "execution_count": 4,
     "metadata": {},
     "output_type": "execute_result"
    }
   ],
   "source": [
    "# Load environment variables from the .env file\n",
    "load_dotenv()\n",
    "\n",
    "# Use environment variables for connection\n",
    "connection = snowflake.connector.connect(\n",
    "    user=os.getenv('SNOWFLAKE_USER'),\n",
    "    password=os.getenv('SNOWFLAKE_PASSWORD'),\n",
    "    account=os.getenv('SNOWFLAKE_ACCOUNT'),\n",
    "    warehouse=os.getenv('SNOWFLAKE_WAREHOUSE'),\n",
    "    database=os.getenv('SNOWFLAKE_DATABASE'),\n",
    "    schema=os.getenv('SNOWFLAKE_SCHEMA'),\n",
    "    role=os.getenv('SNOWFLAKE_ROLE')\n",
    ")\n",
    "\n",
    "# create cursor\n",
    "cursor = connection.cursor()\n",
    "# execute these sql commands\n",
    "cursor.execute('USE DATABASE KINDLE_DB')\n",
    "cursor.execute('USE SCHEMA PUBLIC')"
   ]
  },
  {
   "cell_type": "markdown",
   "id": "b1584fed-b3f0-4536-8575-f2e988bbb264",
   "metadata": {},
   "source": [
    "### Load data to Snowflake"
   ]
  },
  {
   "cell_type": "code",
   "execution_count": 181,
   "id": "a40582e4-6f33-47b3-ad07-9468f3b7cec4",
   "metadata": {},
   "outputs": [
    {
     "data": {
      "text/plain": [
       "(True,\n",
       " 1,\n",
       " 133102,\n",
       " [('jjrkamuziw/file0.txt',\n",
       "   'LOADED',\n",
       "   133102,\n",
       "   133102,\n",
       "   1,\n",
       "   0,\n",
       "   None,\n",
       "   None,\n",
       "   None,\n",
       "   None)])"
      ]
     },
     "execution_count": 181,
     "metadata": {},
     "output_type": "execute_result"
    }
   ],
   "source": [
    "write_pandas(connection, df, table_name='KINDLE_DATA_TABLE')"
   ]
  }
 ],
 "metadata": {
  "kernelspec": {
   "display_name": "Python 3 (ipykernel)",
   "language": "python",
   "name": "python3"
  },
  "language_info": {
   "codemirror_mode": {
    "name": "ipython",
    "version": 3
   },
   "file_extension": ".py",
   "mimetype": "text/x-python",
   "name": "python",
   "nbconvert_exporter": "python",
   "pygments_lexer": "ipython3",
   "version": "3.12.4"
  }
 },
 "nbformat": 4,
 "nbformat_minor": 5
}
